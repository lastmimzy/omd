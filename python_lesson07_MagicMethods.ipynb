{
 "cells": [
  {
   "cell_type": "code",
   "execution_count": 43,
   "metadata": {},
   "outputs": [
    {
     "data": {
      "text/plain": [
       "'ddd'"
      ]
     },
     "execution_count": 43,
     "metadata": {},
     "output_type": "execute_result"
    }
   ],
   "source": [
    "class D:\n",
    "    u = 'ddd'\n",
    "    def __init__(self):\n",
    "        pass\n",
    "    \n",
    "    def f1(self):\n",
    "        return 2\n",
    "\n",
    "class E:\n",
    "    uniq = 'eee'\n",
    "    def __init__(self):\n",
    "        pass\n",
    "    \n",
    "    def f2(self):\n",
    "        return 3\n",
    "        \n",
    "class F(D,E):\n",
    "    pass\n",
    "\n",
    "F().u"
   ]
  },
  {
   "cell_type": "code",
   "execution_count": 69,
   "metadata": {},
   "outputs": [],
   "source": [
    "class D:\n",
    "    u = 'ddd'\n",
    "    def __init__(self):\n",
    "        pass\n",
    "    \n",
    "    def f1(self):\n",
    "        return 2\n",
    "\n",
    "class E:\n",
    "    uniq = 'eee'\n",
    "    def __init__(self, length, width):\n",
    "        self.l = length\n",
    "        self.w = width\n",
    "\n",
    "    \n",
    "    def f2(self):\n",
    "        return self.w*self.l\n",
    "        \n",
    "class F(E):\n",
    "    def __init__(self, length, width):\n",
    "        super(F, self).__init__(length, width)\n",
    "    \n"
   ]
  },
  {
   "cell_type": "code",
   "execution_count": 73,
   "metadata": {},
   "outputs": [],
   "source": [
    "f = F(2,4)\n",
    "w = F(4,7)"
   ]
  },
  {
   "cell_type": "code",
   "execution_count": 72,
   "metadata": {},
   "outputs": [
    {
     "data": {
      "text/plain": [
       "8"
      ]
     },
     "execution_count": 72,
     "metadata": {},
     "output_type": "execute_result"
    }
   ],
   "source": [
    "f.f2()"
   ]
  },
  {
   "cell_type": "code",
   "execution_count": 74,
   "metadata": {},
   "outputs": [
    {
     "data": {
      "text/plain": [
       "28"
      ]
     },
     "execution_count": 74,
     "metadata": {},
     "output_type": "execute_result"
    }
   ],
   "source": [
    "w.f2()"
   ]
  },
  {
   "cell_type": "markdown",
   "metadata": {},
   "source": [
    "# Лекция 07\n",
    "\n",
    "# Практика 1\n",
    "## Задание 1\n",
    "\n",
    "Реализуйте класс BasePokemon  \n",
    "1)Устанавливает атрибуты name и category  \n",
    "2)Имеет метод to_str, выводящий строку из атрибутов name и category  \n",
    "\n",
    "base_charmander = BasePokemon(name='Charmander', category = 'Lizard')  \n",
    "base_charmander.to_str()\n",
    "\n",
    "Out: 'Charmander/Lizard'"
   ]
  },
  {
   "cell_type": "code",
   "execution_count": 95,
   "metadata": {},
   "outputs": [
    {
     "name": "stdout",
     "output_type": "stream",
     "text": [
      "Charmander/Lizard\n"
     ]
    }
   ],
   "source": [
    "class BasePokemon:\n",
    "    def __init__(self, name, category):\n",
    "        self.name = name\n",
    "        self.category = category\n",
    "        \n",
    "    def to_str(self):\n",
    "        return f'{self.name}/{self.category}'\n",
    "        \n",
    "if __name__=='__main__':\n",
    "    base_charmander = BasePokemon(name='Charmander', category = 'Lizard')\n",
    "    print(base_charmander.to_str())"
   ]
  },
  {
   "cell_type": "markdown",
   "metadata": {},
   "source": [
    "## Задание 2  \n",
    "Отнаследуйтесь от класса BasePokemon в классе Pokemon, удалив ненужный код"
   ]
  },
  {
   "cell_type": "markdown",
   "metadata": {},
   "source": [
    "Charmander = Pokemon (  \n",
    "        name ='Charmander',  \n",
    "        category='Lizard',  \n",
    "        weaknesses=(water, ground, rock)  \n",
    ")  \n",
    "\n",
    "charmander = Pokemon(name='Charmander', category='Lizard')  \n",
    "charmander.to_str()  \n",
    "\n",
    "Out: 'Charmander/Lizard'"
   ]
  },
  {
   "cell_type": "code",
   "execution_count": 96,
   "metadata": {},
   "outputs": [
    {
     "name": "stdout",
     "output_type": "stream",
     "text": [
      "Charmander/Lizard\n"
     ]
    }
   ],
   "source": [
    "class Pokemon(BasePokemon):\n",
    "    def __init__(self, name, category, weaknesses):\n",
    "        super().__init__(name, category)\n",
    "        self.weaknesses = weaknesses\n",
    "        \n",
    "if __name__=='__main__':\n",
    "    charmander = Pokemon (  \n",
    "        name ='Charmander',  \n",
    "        category='Lizard',  \n",
    "        weaknesses=('water', 'ground', 'rock')  \n",
    ")  \n",
    "\n",
    "print(charmander.to_str())\n",
    "    "
   ]
  },
  {
   "cell_type": "code",
   "execution_count": 97,
   "metadata": {},
   "outputs": [
    {
     "name": "stdout",
     "output_type": "stream",
     "text": [
      "{'name': 'Charmander', 'category': 'Lizard', 'weaknesses': ('water', 'ground', 'rock')}\n"
     ]
    }
   ],
   "source": [
    "print(charmander.__dict__)"
   ]
  },
  {
   "cell_type": "markdown",
   "metadata": {},
   "source": [
    "# Миксины"
   ]
  },
  {
   "cell_type": "markdown",
   "metadata": {},
   "source": [
    "Особенности:  \n",
    "1) Обычный класс  \n",
    "2) Самостоятельно не может использоваться  \n",
    "3) Принято, что название заканчивается на Mixin  \n",
    "4) Частично изменяет поведение класса  \n",
    "5) Содержат дополнительную функциональность, которую можно \"подмешать\" к текущему классу  \n",
    "6) Обычно указывается самым левым родителем"
   ]
  },
  {
   "cell_type": "markdown",
   "metadata": {},
   "source": [
    "# Магические методы"
   ]
  },
  {
   "cell_type": "markdown",
   "metadata": {},
   "source": [
    "1) Начинаются и заканчиваются двумя подчеркиваниями - dunder methods  \n",
    "2) Неявно вызываются во время выполнения  \n",
    "3) С их помощью реализованы различные протоколы/интерфейсы  \n",
    "\n",
    "*протокол - набор методов объекта, благодаря которым, он может выполнять определенную роль в системе"
   ]
  },
  {
   "cell_type": "markdown",
   "metadata": {},
   "source": [
    "# _ _repr_ _\n",
    "\n",
    "1) Определяет строковое представление удобное для изучения объекта  \n",
    "2) Используется отладчиками и интерактивной средой REPL"
   ]
  },
  {
   "cell_type": "code",
   "execution_count": 139,
   "metadata": {},
   "outputs": [
    {
     "data": {
      "text/plain": [
       "id: 2658646347656; class Guide"
      ]
     },
     "execution_count": 139,
     "metadata": {},
     "output_type": "execute_result"
    }
   ],
   "source": [
    "class Guide:\n",
    "    def __repr__(self):\n",
    "        return f'id: {id(self)}; class {self.__class__.__name__}'\n",
    "\n",
    "Guide()"
   ]
  },
  {
   "cell_type": "markdown",
   "metadata": {},
   "source": [
    "Принту (print) для вывода из класса нужен repr или str"
   ]
  },
  {
   "cell_type": "code",
   "execution_count": 102,
   "metadata": {},
   "outputs": [
    {
     "name": "stdout",
     "output_type": "stream",
     "text": [
      "AAA\n"
     ]
    }
   ],
   "source": [
    "class A:\n",
    "    def __repr__(self):\n",
    "        return 'AAA'\n",
    "    \n",
    "print(A())"
   ]
  },
  {
   "cell_type": "code",
   "execution_count": 109,
   "metadata": {},
   "outputs": [
    {
     "name": "stdout",
     "output_type": "stream",
     "text": [
      "<class '__main__.MyDict'>\n"
     ]
    }
   ],
   "source": [
    "class MyDict:\n",
    "    pass\n",
    "    \n",
    "D=MyDict\n",
    "print(D)"
   ]
  },
  {
   "cell_type": "markdown",
   "metadata": {},
   "source": [
    "# _ _str_ _\n",
    "\n",
    "Определяет строковое представление для показа конечным пользователям"
   ]
  },
  {
   "cell_type": "code",
   "execution_count": 159,
   "metadata": {},
   "outputs": [
    {
     "name": "stdout",
     "output_type": "stream",
     "text": [
      "Guide with text: Автомобиль продается первым...\n"
     ]
    }
   ],
   "source": [
    "import textwrap\n",
    "\n",
    "class Guide:\n",
    "    text = '''Автомобиль продается первым официальным дилером Порше. \n",
    "    Спорткар Центр Порше самый большой дилерский центр в Европе.'''\n",
    "    def __str__(self):\n",
    "        compact_text = textwrap.shorten(self.text, 40, placeholder='...')\n",
    "        return f'Guide with text: {compact_text}'\n",
    "    \n",
    "print(Guide())\n"
   ]
  },
  {
   "cell_type": "code",
   "execution_count": 164,
   "metadata": {},
   "outputs": [
    {
     "name": "stdout",
     "output_type": "stream",
     "text": [
      "Buuulb!\n"
     ]
    }
   ],
   "source": [
    "class P:\n",
    "    def __init__(self, name):\n",
    "        self.name=name\n",
    "        \n",
    "    def __repr__(self):\n",
    "        return f'{self.name}'\n",
    "    \n",
    "    def __str__(self):\n",
    "        return f'{self.name}!'\n",
    "    \n",
    "if __name__=='__main__':\n",
    "    bulb=P(name='Buuulb')\n",
    "    print(bulb)\n",
    "    \n",
    "    "
   ]
  },
  {
   "cell_type": "markdown",
   "metadata": {},
   "source": [
    "# _ _format_ _\n",
    "определяет форматированное строковое представление"
   ]
  },
  {
   "cell_type": "code",
   "execution_count": 1,
   "metadata": {},
   "outputs": [
    {
     "data": {
      "text/plain": [
       "'              Автомобиль Порше'"
      ]
     },
     "execution_count": 1,
     "metadata": {},
     "output_type": "execute_result"
    }
   ],
   "source": [
    "class Guide:\n",
    "    text = \"Автомобиль Порше\"\n",
    "    \n",
    "    def __format__(self, format_spec):\n",
    "        return self.text.__format__(format_spec)\n",
    "    \n",
    "f'{Guide():>30}'"
   ]
  },
  {
   "cell_type": "markdown",
   "metadata": {},
   "source": [
    "# _ _eq_ _\n",
    "позволяет сравнивать объекты (по умолчанию, без этого метода, они сравниваются по адресу в памяти)"
   ]
  },
  {
   "cell_type": "code",
   "execution_count": 1,
   "metadata": {},
   "outputs": [],
   "source": [
    "# @total_ordering => functools.total_ordering может добавить недостающие методы сравнения\n",
    "class Car:\n",
    "    def __init__(self, max_speed):\n",
    "        self.max_speed=max_speed\n",
    "        \n",
    "    def __eq__(self, other):\n",
    "        return self.max_speed == other.max_speed\n",
    "    \n",
    "    def __lt__(self, other):\n",
    "        return self.max_speed < other.max_speed"
   ]
  },
  {
   "cell_type": "markdown",
   "metadata": {},
   "source": [
    "# _ _hash_ _\n",
    "\n",
    "Осуществляет преобразование массива входных данных произвольной длины в (выходную) битовую строку установленной длины, выполняемое определённым алгоритмом. Преобразование, производимое хеш-функцией, называется хешированием. Исходные данные называются входным массивом или «ключом». Результат преобразования (выходные данные) называется «хешем».\n"
   ]
  },
  {
   "cell_type": "markdown",
   "metadata": {},
   "source": [
    "Здесь показано, что два объекта класса, инициализированные одинаковым параметром text, на самом деле не являются физически одинаковыми.\n"
   ]
  },
  {
   "cell_type": "code",
   "execution_count": 2,
   "metadata": {},
   "outputs": [
    {
     "data": {
      "text/plain": [
       "{<__main__.Tokenizer at 0x13b1ad4bd88>, <__main__.Tokenizer at 0x13b1ad4bec8>}"
      ]
     },
     "execution_count": 2,
     "metadata": {},
     "output_type": "execute_result"
    }
   ],
   "source": [
    "class Tokenizer:\n",
    "   def __init__(self, text):\n",
    "       self.text = text\n",
    "\n",
    "{Tokenizer('text'), Tokenizer('text')}  # получим разные объекты\n"
   ]
  },
  {
   "cell_type": "markdown",
   "metadata": {},
   "source": [
    "Объекты с одинаковым полем text возвращают одинаковые хэш-значения, и в этом случае из двух одинаковых объектов остается один."
   ]
  },
  {
   "cell_type": "code",
   "execution_count": 4,
   "metadata": {},
   "outputs": [
    {
     "data": {
      "text/plain": [
       "{<__main__.Tokenizer at 0x13b1ad4b648>}"
      ]
     },
     "execution_count": 4,
     "metadata": {},
     "output_type": "execute_result"
    }
   ],
   "source": [
    "class Tokenizer:\n",
    "   def __init__(self, text):\n",
    "       self.text = text\n",
    "\n",
    "   def __eq__(self, other):\n",
    "       return self.text == other.text\n",
    "\n",
    "   def __hash__(self):\n",
    "       return hash(self.text)\n",
    "\n",
    "{Tokenizer('text'), Tokenizer('text')}"
   ]
  },
  {
   "cell_type": "code",
   "execution_count": 9,
   "metadata": {},
   "outputs": [
    {
     "data": {
      "text/plain": [
       "True"
      ]
     },
     "execution_count": 9,
     "metadata": {},
     "output_type": "execute_result"
    }
   ],
   "source": [
    "d=Tokenizer(\"hi\")\n",
    "d2=Tokenizer(\"hi\")\n",
    "\n",
    "d.__eq__(d2)"
   ]
  },
  {
   "cell_type": "markdown",
   "metadata": {},
   "source": [
    "# Практика 2\n",
    "## Задание 1:  Pokemon/макический метод"
   ]
  },
  {
   "cell_type": "code",
   "execution_count": 6,
   "metadata": {},
   "outputs": [],
   "source": [
    "# Дан класс:\n",
    "class Pokemon:\n",
    "    def __init__(self, name: str, poketype: str):\n",
    "        self.name = name\n",
    "        self.poketype = poketype\n",
    "        \n",
    "    def to_str(self):\n",
    "        return f'{self.name}/{self.poketype}'"
   ]
  },
  {
   "cell_type": "code",
   "execution_count": 7,
   "metadata": {},
   "outputs": [
    {
     "name": "stdout",
     "output_type": "stream",
     "text": [
      "<__main__.Pokemon object at 0x00000146C300A108>\n"
     ]
    }
   ],
   "source": [
    "#замените метод на to_str\n",
    "bulbasaur = Pokemon(name='Bulbasaur', poketype='grass')\n",
    "print(bulbasaur)\n",
    "Out: 'Bulbasaur/grass'\n"
   ]
  },
  {
   "cell_type": "code",
   "execution_count": 9,
   "metadata": {},
   "outputs": [
    {
     "name": "stdout",
     "output_type": "stream",
     "text": [
      "Bulbasaur/grass\n"
     ]
    }
   ],
   "source": [
    "class Pokemon:\n",
    "    def __init__(self, name: str, poketype: str):\n",
    "        self.name = name\n",
    "        self.poketype = poketype\n",
    "        \n",
    "    def __repr__(self):\n",
    "        return f'{self.name}/{self.poketype}'\n",
    "    \n",
    "if __name__=='__main__':\n",
    "    bulbasaur = Pokemon(name='Bulbasaur', poketype='grass')\n",
    "    print(bulbasaur)"
   ]
  },
  {
   "cell_type": "markdown",
   "metadata": {},
   "source": [
    "## Задание 2:  Pokemon/миксин"
   ]
  },
  {
   "cell_type": "markdown",
   "metadata": {},
   "source": [
    "Напишите миксин EmojiMixin, который модифицирует метод __str__\n",
    "Заменяет категорию покемона на эмоджи:  \n",
    "● grass => 🌱  \n",
    "● fire => 🔥  \n",
    "● water => 💧  \n",
    "● electric => ⚡️"
   ]
  },
  {
   "cell_type": "markdown",
   "metadata": {},
   "source": [
    "pikachu = Pokemon(name='Pikachu', category='electric')  \n",
    "print(pikachu)  \n",
    "Out: 'Pikachu/⚡️'"
   ]
  },
  {
   "cell_type": "code",
   "execution_count": 13,
   "metadata": {},
   "outputs": [
    {
     "name": "stdout",
     "output_type": "stream",
     "text": [
      "Pikachu|||||⚡️\n"
     ]
    }
   ],
   "source": [
    "class BasePokemon:\n",
    "    def __init__(self, name: str, category: str):\n",
    "        self.name = name\n",
    "        self.category = category\n",
    "        \n",
    "    def __str__(self):\n",
    "        return f'{self.name}|||||{self.category}'\n",
    "    \n",
    "class EmojiMoxin:\n",
    "    ICON = {\n",
    "        'grass': '🌱',\n",
    "        'electric': '⚡️'\n",
    "    }\n",
    "    \n",
    "    def __str__(self):\n",
    "        text: str = super().__str__()\n",
    "        for cat, emoji in self.ICON.items():\n",
    "            replaced = text.replace(cat, emoji)\n",
    "            if replaced != text:\n",
    "                return replaced\n",
    "        return text\n",
    "    \n",
    "class Pokemon(EmojiMoxin, BasePokemon):\n",
    "    pass\n",
    "\n",
    "    \n",
    "if __name__=='__main__':\n",
    "    pikachu = Pokemon(name='Pikachu', category='electric')  \n",
    "    print(pikachu) \n",
    "    "
   ]
  },
  {
   "cell_type": "code",
   "execution_count": null,
   "metadata": {},
   "outputs": [],
   "source": []
  }
 ],
 "metadata": {
  "kernelspec": {
   "display_name": "Python 3",
   "language": "python",
   "name": "python3"
  },
  "language_info": {
   "codemirror_mode": {
    "name": "ipython",
    "version": 3
   },
   "file_extension": ".py",
   "mimetype": "text/x-python",
   "name": "python",
   "nbconvert_exporter": "python",
   "pygments_lexer": "ipython3",
   "version": "3.7.6"
  }
 },
 "nbformat": 4,
 "nbformat_minor": 4
}
