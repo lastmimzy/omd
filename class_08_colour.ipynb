{
 "cells": [
  {
   "cell_type": "markdown",
   "metadata": {},
   "source": [
    "# Задание #1: вывод цвета\n",
    "Создайте класс Color, который выводит ● в заданном цвете RGB\n"
   ]
  },
  {
   "cell_type": "markdown",
   "metadata": {},
   "source": [
    "red = Color(255, 0, 0)  \n",
    "print(red)  \n",
    "Out: ●\n"
   ]
  },
  {
   "cell_type": "code",
   "execution_count": 5,
   "metadata": {},
   "outputs": [
    {
     "name": "stdout",
     "output_type": "stream",
     "text": [
      "\u001b[1;38;2;100;149;237m●\u001b[0m\n"
     ]
    }
   ],
   "source": [
    "END = '\\033[0'\n",
    "START = '\\033[1;38;2'\n",
    "MOD = 'm'\n",
    "red_level = 100\n",
    "green_level = 149\n",
    "blue_level = 237\n",
    "print(f'{START};{red_level};{green_level};{blue_level}{MOD}●{END}{MOD}')"
   ]
  },
  {
   "cell_type": "code",
   "execution_count": 9,
   "metadata": {},
   "outputs": [
    {
     "name": "stdout",
     "output_type": "stream",
     "text": [
      "\u001b[1;38;2;255;0;0m●\u001b[0m\n"
     ]
    }
   ],
   "source": [
    "class Color:\n",
    "    END = '\\033[0'\n",
    "    START = '\\033[1;38;2'\n",
    "    MOD = 'm'\n",
    "    \n",
    "    def __init__(self, red_ch, green_ch, blue_ch):\n",
    "        self.red_ch = red_ch\n",
    "        self.green_ch = green_ch\n",
    "        self.blue_ch = blue_ch\n",
    "        \n",
    "    def __repr__(self):\n",
    "        return f'{self.START};{self.red_ch};{self.green_ch};{self.blue_ch}{self.MOD}●{self.END}{self.MOD}'\n",
    "    \n",
    "    @staticmethod\n",
    "    def is_correct_ch(channel):\n",
    "        if not isinstance(channel, int):\n",
    "            raise ValueError(f\"{type(channel)} != int\")\n",
    "            \n",
    "        if not 0 <= channel <= 255:\n",
    "            raise ValueError(\"channel > 255 or channel < 0\")\n",
    "            \n",
    "    @property\n",
    "    def red_ch(self):\n",
    "        return self.red_ch_\n",
    "    \n",
    "    @property\n",
    "    def green_ch(self):\n",
    "        return self.green_ch_\n",
    "    \n",
    "    @property\n",
    "    def blue_ch(self):\n",
    "        return self.blue_ch_\n",
    "    \n",
    "    @red_ch.setter\n",
    "    def red_ch(self,channel):\n",
    "        Color.is_correct_ch(channel)\n",
    "        self.red_ch_=channel\n",
    "        \n",
    "    @blue_ch.setter\n",
    "    def blue_ch(self,channel):\n",
    "        Color.is_correct_ch(channel)\n",
    "        self.blue_ch_=channel \n",
    "        \n",
    "    @green_ch.setter\n",
    "    def green_ch(self,channel):\n",
    "        Color.is_correct_ch(channel)\n",
    "        self.green_ch_=channel \n",
    "\n",
    "red=Color(255, 255, 0)\n",
    "red.green_ch=0\n",
    "print(red)"
   ]
  },
  {
   "cell_type": "markdown",
   "metadata": {},
   "source": [
    "# Задание #2: сравнение цветов\n",
    "Реализуйте возможность сравнивать цвета\n"
   ]
  },
  {
   "cell_type": "markdown",
   "metadata": {},
   "source": [
    "red = Color(255, 0, 0)  \n",
    "green = Color(0, 255, 0)  \n",
    "red == green  \n",
    "Out: False  \n",
    "\n",
    "red == Color(255, 0, 0)  \n",
    "Out: True"
   ]
  },
  {
   "cell_type": "code",
   "execution_count": 12,
   "metadata": {},
   "outputs": [
    {
     "name": "stdout",
     "output_type": "stream",
     "text": [
      "\u001b[1;38;2;255;0;0m●\u001b[0m\n",
      "\u001b[1;38;2;0;255;0m●\u001b[0m\n",
      "False\n"
     ]
    }
   ],
   "source": [
    "class Color:\n",
    "    END = '\\033[0'\n",
    "    START = '\\033[1;38;2'\n",
    "    MOD = 'm'\n",
    "    \n",
    "    def __init__(self, red_ch, green_ch, blue_ch):\n",
    "        self.red_ch = red_ch\n",
    "        self.green_ch = green_ch\n",
    "        self.blue_ch = blue_ch\n",
    "        \n",
    "    def __repr__(self):\n",
    "        return f'{self.START};{self.red_ch};{self.green_ch};{self.blue_ch}{self.MOD}●{self.END}{self.MOD}'\n",
    "    \n",
    "    @staticmethod\n",
    "    def is_correct_ch(channel):\n",
    "        if not isinstance(channel, int):\n",
    "            raise ValueError(f\"{type(channel)} != int\")\n",
    "            \n",
    "        if not 0 <= channel <= 255:\n",
    "            raise ValueError(\"channel > 255 or channel < 0\")\n",
    "            \n",
    "    @property\n",
    "    def red_ch(self):\n",
    "        return self.red_ch_\n",
    "    \n",
    "    @property\n",
    "    def green_ch(self):\n",
    "        return self.green_ch_\n",
    "    \n",
    "    @property\n",
    "    def blue_ch(self):\n",
    "        return self.blue_ch_\n",
    "    \n",
    "    @red_ch.setter\n",
    "    def red_ch(self,channel):\n",
    "        Color.is_correct_ch(channel)\n",
    "        self.red_ch_=channel\n",
    "        \n",
    "    @blue_ch.setter\n",
    "    def blue_ch(self,channel):\n",
    "        Color.is_correct_ch(channel)\n",
    "        self.blue_ch_=channel \n",
    "        \n",
    "    @green_ch.setter\n",
    "    def green_ch(self,channel):\n",
    "        Color.is_correct_ch(channel)\n",
    "        self.green_ch_=channel \n",
    "        \n",
    "    def __eq__(self,other):\n",
    "        return self.red_ch == other.red_ch and self.blue_ch == other.blue_ch \\\n",
    "            and self.green_ch == other.green_ch\n",
    "\n",
    "if __name__=='__main__':\n",
    "    red = Color(255,0,0)\n",
    "    print(red)\n",
    "    green = Color(0,255,0)\n",
    "    print(green)\n",
    "    print(red==green)"
   ]
  },
  {
   "cell_type": "markdown",
   "metadata": {},
   "source": [
    "# Задание #3: смешивание цветов\n",
    "Реализуйте смешивание цветов через сложение экземпляров класса Color"
   ]
  },
  {
   "cell_type": "markdown",
   "metadata": {},
   "source": [
    "red = Color(255, 0, 0)  \n",
    "green = Color(0, 255, 0)  \n",
    "red + green  \n",
    "Out: ● <= желтый"
   ]
  },
  {
   "cell_type": "code",
   "execution_count": 16,
   "metadata": {},
   "outputs": [
    {
     "name": "stdout",
     "output_type": "stream",
     "text": [
      "\u001b[1;38;2;255;0;0m●\u001b[0m\n",
      "\u001b[1;38;2;0;255;0m●\u001b[0m\n",
      "\u001b[1;38;2;0;0;255m●\u001b[0m\n",
      "\u001b[1;38;2;255;255;0m●\u001b[0m\n",
      "\u001b[1;38;2;255;0;255m●\u001b[0m\n"
     ]
    }
   ],
   "source": [
    "class Color:\n",
    "    END = '\\033[0'\n",
    "    START = '\\033[1;38;2'\n",
    "    MOD = 'm'\n",
    "    \n",
    "    def __init__(self, red_ch, green_ch, blue_ch):\n",
    "        self.red_ch = red_ch\n",
    "        self.green_ch = green_ch\n",
    "        self.blue_ch = blue_ch\n",
    "        \n",
    "    def __repr__(self):\n",
    "        return f'{self.START};{self.red_ch};{self.green_ch};{self.blue_ch}{self.MOD}●{self.END}{self.MOD}'\n",
    "    \n",
    "    @staticmethod\n",
    "    def is_correct_ch(channel):\n",
    "        if not isinstance(channel, int):\n",
    "            raise ValueError(f\"{type(channel)} != int\")\n",
    "            \n",
    "        if not 0 <= channel <= 255:\n",
    "            raise ValueError(\"channel > 255 or channel < 0\")\n",
    "            \n",
    "    @property\n",
    "    def red_ch(self):\n",
    "        return self.red_ch_\n",
    "    \n",
    "    @property\n",
    "    def green_ch(self):\n",
    "        return self.green_ch_\n",
    "    \n",
    "    @property\n",
    "    def blue_ch(self):\n",
    "        return self.blue_ch_\n",
    "    \n",
    "    @red_ch.setter\n",
    "    def red_ch(self,channel):\n",
    "        Color.is_correct_ch(channel)\n",
    "        self.red_ch_=channel\n",
    "        \n",
    "    @blue_ch.setter\n",
    "    def blue_ch(self,channel):\n",
    "        Color.is_correct_ch(channel)\n",
    "        self.blue_ch_=channel \n",
    "        \n",
    "    @green_ch.setter\n",
    "    def green_ch(self,channel):\n",
    "        Color.is_correct_ch(channel)\n",
    "        self.green_ch_=channel \n",
    "        \n",
    "    def __eq__(self,other):\n",
    "        return self.red_ch == other.red_ch and self.blue_ch == other.blue_ch \\\n",
    "            and self.green_ch == other.green_ch\n",
    "    \n",
    "    def __add__(self,other):\n",
    "        new_red = self.red_ch + other.red_ch\n",
    "        new_green =  self.green_ch + other.green_ch\n",
    "        new_blue =  self.blue_ch + other.blue_ch\n",
    "        return Color(new_red, new_green, new_blue)\n",
    "    \n",
    "\n",
    "if __name__=='__main__':\n",
    "    red = Color(255,0,0)\n",
    "    print(red)\n",
    "    green = Color(0,255,0)\n",
    "    print(green)\n",
    "    blue = Color(0,0,255)\n",
    "    print(blue)\n",
    "    print(green+red)\n",
    "    print(red+blue)"
   ]
  },
  {
   "cell_type": "markdown",
   "metadata": {},
   "source": [
    "# Задание #4: уникальные цвета\n",
    "Из списка цветов оставьте только уникальные"
   ]
  },
  {
   "cell_type": "markdown",
   "metadata": {},
   "source": [
    "orange1 = Color(255, 165, 0)  \n",
    "red = Color(255, 0, 0)  \n",
    "green = Color(0, 255, 0)  \n",
    "orange2 = Color(255, 165, 0)  \n",
    "color_list = [orange1, red, green, orange2]  \n",
    "set(color_list)  \n",
    "Out: {●, ●, ●} <= Оранжевый, красный, зеленый"
   ]
  },
  {
   "cell_type": "code",
   "execution_count": 19,
   "metadata": {},
   "outputs": [
    {
     "name": "stdout",
     "output_type": "stream",
     "text": [
      "{\u001b[1;38;2;255;165;0m●\u001b[0m, \u001b[1;38;2;0;255;0m●\u001b[0m, \u001b[1;38;2;255;0;0m●\u001b[0m}\n"
     ]
    }
   ],
   "source": [
    "class Color:\n",
    "    END = '\\033[0'\n",
    "    START = '\\033[1;38;2'\n",
    "    MOD = 'm'\n",
    "    \n",
    "    def __init__(self, red_ch, green_ch, blue_ch):\n",
    "        self.red_ch = red_ch\n",
    "        self.green_ch = green_ch\n",
    "        self.blue_ch = blue_ch\n",
    "        \n",
    "    def __repr__(self):\n",
    "        return f'{self.START};{self.red_ch};{self.green_ch};{self.blue_ch}{self.MOD}●{self.END}{self.MOD}'\n",
    "    \n",
    "    @staticmethod\n",
    "    def is_correct_ch(channel):\n",
    "        if not isinstance(channel, int):\n",
    "            raise ValueError(f\"{type(channel)} != int\")\n",
    "            \n",
    "        if not 0 <= channel <= 255:\n",
    "            raise ValueError(\"channel > 255 or channel < 0\")\n",
    "            \n",
    "    @property\n",
    "    def red_ch(self):\n",
    "        return self.red_ch_\n",
    "    \n",
    "    @property\n",
    "    def green_ch(self):\n",
    "        return self.green_ch_\n",
    "    \n",
    "    @property\n",
    "    def blue_ch(self):\n",
    "        return self.blue_ch_\n",
    "    \n",
    "    @red_ch.setter\n",
    "    def red_ch(self,channel):\n",
    "        Color.is_correct_ch(channel)\n",
    "        self.red_ch_=channel\n",
    "        \n",
    "    @blue_ch.setter\n",
    "    def blue_ch(self,channel):\n",
    "        Color.is_correct_ch(channel)\n",
    "        self.blue_ch_=channel \n",
    "        \n",
    "    @green_ch.setter\n",
    "    def green_ch(self,channel):\n",
    "        Color.is_correct_ch(channel)\n",
    "        self.green_ch_=channel \n",
    "        \n",
    "    def __eq__(self,other):\n",
    "        return self.red_ch == other.red_ch and self.blue_ch == other.blue_ch \\\n",
    "            and self.green_ch == other.green_ch\n",
    "    \n",
    "    def __add__(self,other):\n",
    "        new_red = self.red_ch + other.red_ch\n",
    "        new_green =  self.green_ch + other.green_ch\n",
    "        new_blue =  self.blue_ch + other.blue_ch\n",
    "        return Color(new_red, new_green, new_blue)\n",
    "    \n",
    "    def __hash__(self):\n",
    "        color_tuple = (self.red_ch, self.green_ch, self.blue_ch)\n",
    "        return hash(color_tuple)\n",
    "    \n",
    "\n",
    "if __name__=='__main__':\n",
    "    orange1 = Color(255,165,0)\n",
    "    red=Color(255,0,0)\n",
    "    green=Color(0,255,0)\n",
    "    orange2=Color(255,165,0)\n",
    "    color_list=[orange1, red, green, orange2]\n",
    "    print(set(color_list)) "
   ]
  },
  {
   "cell_type": "markdown",
   "metadata": {},
   "source": [
    "# Задание #5: уменьшение контраста\n",
    "Реализуйте уменьшение контраста умножением на с = [0, 1] экземпляра \n",
    "класса Color\n"
   ]
  },
  {
   "cell_type": "markdown",
   "metadata": {},
   "source": [
    "red = Color(255, 0, 0)  \n",
    "Out: ●   <= красный  \n",
    "0.5 * red  \n",
    "Out: ● <= красный светлее\n"
   ]
  },
  {
   "cell_type": "markdown",
   "metadata": {},
   "source": [
    "$c = [0,1]$  \n",
    "$cl = -256*(1-c)$  \n",
    "$F=259*(cl+255)/255*(259-cl)$  \n",
    "$L=[0,255]$  \n",
    "$L'=F*(L-128)+128$"
   ]
  },
  {
   "cell_type": "code",
   "execution_count": 24,
   "metadata": {},
   "outputs": [
    {
     "name": "stdout",
     "output_type": "stream",
     "text": [
      "\u001b[1;38;2;170;85;85m●\u001b[0m\n",
      "\u001b[1;38;2;170;85;85m●\u001b[0m\n"
     ]
    }
   ],
   "source": [
    "class Color:\n",
    "    END = '\\033[0'\n",
    "    START = '\\033[1;38;2'\n",
    "    MOD = 'm'\n",
    "    \n",
    "    def __init__(self, red_ch, green_ch, blue_ch):\n",
    "        self.red_ch = red_ch\n",
    "        self.green_ch = green_ch\n",
    "        self.blue_ch = blue_ch\n",
    "        \n",
    "    def __repr__(self):\n",
    "        return f'{self.START};{self.red_ch};{self.green_ch};{self.blue_ch}{self.MOD}●{self.END}{self.MOD}'\n",
    "    \n",
    "    @staticmethod\n",
    "    def is_correct_ch(channel):\n",
    "        if not isinstance(channel, int):\n",
    "            raise ValueError(f\"{type(channel)} != int\")\n",
    "            \n",
    "        if not 0 <= channel <= 255:\n",
    "            raise ValueError(\"channel > 255 or channel < 0\")\n",
    "            \n",
    "    @property\n",
    "    def red_ch(self):\n",
    "        return self.red_ch_\n",
    "    \n",
    "    @property\n",
    "    def green_ch(self):\n",
    "        return self.green_ch_\n",
    "    \n",
    "    @property\n",
    "    def blue_ch(self):\n",
    "        return self.blue_ch_\n",
    "    \n",
    "    @red_ch.setter\n",
    "    def red_ch(self,channel):\n",
    "        Color.is_correct_ch(channel)\n",
    "        self.red_ch_=channel\n",
    "        \n",
    "    @blue_ch.setter\n",
    "    def blue_ch(self,channel):\n",
    "        Color.is_correct_ch(channel)\n",
    "        self.blue_ch_=channel \n",
    "        \n",
    "    @green_ch.setter\n",
    "    def green_ch(self,channel):\n",
    "        Color.is_correct_ch(channel)\n",
    "        self.green_ch_=channel \n",
    "        \n",
    "    def __eq__(self,other):\n",
    "        return self.red_ch == other.red_ch and self.blue_ch == other.blue_ch \\\n",
    "            and self.green_ch == other.green_ch\n",
    "    \n",
    "    def __add__(self, other):\n",
    "        new_red = self.red_ch + other.red_ch\n",
    "        new_green =  self.green_ch + other.green_ch\n",
    "        new_blue =  self.blue_ch + other.blue_ch\n",
    "        return Color(new_red, new_green, new_blue)\n",
    "    \n",
    "    def __hash__(self):\n",
    "        color_tuple = (self.red_ch, self.green_ch, self.blue_ch)\n",
    "        return hash(color_tuple)\n",
    "    \n",
    "    def __mul__(self, other):\n",
    "        if other < 0 or other > 1:\n",
    "            raise ValueError(f\"Контраст должен быть от 0 до 1\")\n",
    "        cl = -256 * (1 - other)\n",
    "        f = 259 * (cl + 255) / (255 * (259 - cl))\n",
    "        r = int(f * (self.red_ch - 128) + 128)\n",
    "        g = int(f * (self.green_ch - 128) + 128)\n",
    "        b = int(f * (self.blue_ch - 128) + 128)\n",
    "        return Color(r, g, b)\n",
    "    \n",
    "    def __rmul__(self, other):\n",
    "        return self.__mul__(other)\n",
    "                                \n",
    "\n",
    "if __name__=='__main__':\n",
    "    red=Color(255,0,0)\n",
    "    print(red*0.5)\n",
    "    print(0.5*red)\n"
   ]
  },
  {
   "cell_type": "code",
   "execution_count": null,
   "metadata": {},
   "outputs": [],
   "source": []
  }
 ],
 "metadata": {
  "kernelspec": {
   "display_name": "Python 3",
   "language": "python",
   "name": "python3"
  },
  "language_info": {
   "codemirror_mode": {
    "name": "ipython",
    "version": 3
   },
   "file_extension": ".py",
   "mimetype": "text/x-python",
   "name": "python",
   "nbconvert_exporter": "python",
   "pygments_lexer": "ipython3",
   "version": "3.7.6"
  }
 },
 "nbformat": 4,
 "nbformat_minor": 4
}
